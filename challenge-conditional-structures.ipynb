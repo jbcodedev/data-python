{
 "cells": [
  {
   "cell_type": "markdown",
   "metadata": {},
   "source": [
    "# Challenge - Estructuras condicionales con Python"
   ]
  },
  {
   "cell_type": "markdown",
   "metadata": {},
   "source": [
    "**Entrenando la programación**"
   ]
  },
  {
   "cell_type": "markdown",
   "metadata": {},
   "source": [
    "1 - Escribe un programa que pida a la persona usuaria que proporcione dos números y muestre el número más grande."
   ]
  },
  {
   "cell_type": "code",
   "execution_count": 6,
   "metadata": {},
   "outputs": [
    {
     "name": "stdout",
     "output_type": "stream",
     "text": [
      "10\n",
      "18\n"
     ]
    }
   ],
   "source": [
    "number1 = int(input('Ingrese el primer numero'))\n",
    "number2 = int(input('Ingrese el segundo numero'))\n",
    "print(number1)\n",
    "print(number2)"
   ]
  },
  {
   "cell_type": "code",
   "execution_count": 7,
   "metadata": {},
   "outputs": [
    {
     "name": "stdout",
     "output_type": "stream",
     "text": [
      "El segundo numero es mayor que el primero\n"
     ]
    }
   ],
   "source": [
    "if number1 > number2:\n",
    "    print('El numero es mayor que el otro')\n",
    "elif number2 > number1:\n",
    "    print('El segundo numero es mayor que el primero')\n",
    "else:\n",
    "    print('Los numeros son iguales')"
   ]
  },
  {
   "cell_type": "markdown",
   "metadata": {},
   "source": [
    "2 - Escribe un programa que solicite el porcentaje de crecimiento de producción de una empresa e informe si hubo un crecimiento (porcentaje positivo) o una disminución (porcentaje negativo)."
   ]
  },
  {
   "cell_type": "code",
   "execution_count": 12,
   "metadata": {},
   "outputs": [
    {
     "name": "stdout",
     "output_type": "stream",
     "text": [
      "60.1\n"
     ]
    }
   ],
   "source": [
    "variacion = float(input(\"Ingrese el porcentaje de produccion\"))\n",
    "print(variacion)"
   ]
  },
  {
   "cell_type": "code",
   "execution_count": 15,
   "metadata": {},
   "outputs": [
    {
     "name": "stdout",
     "output_type": "stream",
     "text": [
      "Hubo un porcentaje de crecimiento positivo de 60.1%\n"
     ]
    }
   ],
   "source": [
    "if variacion > 0:\n",
    "    print(f'Hubo un porcentaje de crecimiento positivo de {variacion}%')\n",
    "elif variacion < 0:\n",
    "    print(f'Hubo un porcentaje de crecimiento negativo de {variacion}%')\n",
    "else:\n",
    "    print('No hubo ni crecimiento ni decrecimiento')"
   ]
  },
  {
   "cell_type": "markdown",
   "metadata": {},
   "source": [
    "3 - Escribe un programa que determine si una letra proporcionada por la persona usuaria es una vocal o una consonante."
   ]
  },
  {
   "cell_type": "code",
   "execution_count": 17,
   "metadata": {},
   "outputs": [
    {
     "name": "stdout",
     "output_type": "stream",
     "text": [
      "a\n"
     ]
    }
   ],
   "source": [
    "letra = input('Ingrese una letra').lower()\n",
    "print(letra)"
   ]
  },
  {
   "cell_type": "code",
   "execution_count": 18,
   "metadata": {},
   "outputs": [
    {
     "name": "stdout",
     "output_type": "stream",
     "text": [
      "La letra es una vocal\n"
     ]
    }
   ],
   "source": [
    "vocales = 'aeiou'\n",
    "if letra in vocales:\n",
    "    print('La letra es una vocal')\n",
    "else:\n",
    "    print('La letra es una consonante')"
   ]
  },
  {
   "cell_type": "markdown",
   "metadata": {},
   "source": [
    "4 - Escribe un programa que lea valores promedio de precios de un modelo de automóvil durante 3 años consecutivos y muestre el valor más alto y más bajo entre esos tres años."
   ]
  },
  {
   "cell_type": "code",
   "execution_count": 24,
   "metadata": {},
   "outputs": [],
   "source": [
    "valor1 = float(input('Ingrese el promedio de precios del primer año'))\n",
    "valor2 = float(input('Ingrese el promedio de precios del segundo año'))\n",
    "valor3 = float(input('Ingrese el promedio de precios del tercer año'))"
   ]
  },
  {
   "cell_type": "code",
   "execution_count": 25,
   "metadata": {},
   "outputs": [
    {
     "name": "stdout",
     "output_type": "stream",
     "text": [
      "100.0 80.1 25.2\n"
     ]
    }
   ],
   "source": [
    "print(valor1,valor2,valor3)"
   ]
  },
  {
   "cell_type": "code",
   "execution_count": 26,
   "metadata": {},
   "outputs": [],
   "source": [
    "precio_maximo = max(valor1,valor2,valor3)\n",
    "precio_minimo = min(valor1,valor2,valor3)"
   ]
  },
  {
   "cell_type": "code",
   "execution_count": 27,
   "metadata": {},
   "outputs": [
    {
     "name": "stdout",
     "output_type": "stream",
     "text": [
      "El precio mas alto es 100.0\n",
      "El precio mas bajo es 25.2\n"
     ]
    }
   ],
   "source": [
    "print(f'El precio mas alto es {precio_maximo}')\n",
    "print(f'El precio mas bajo es {precio_minimo}')"
   ]
  },
  {
   "cell_type": "markdown",
   "metadata": {},
   "source": [
    "5 - Escribe un programa que pregunte sobre el precio de tres productos e indique cuál es el producto más barato para comprar."
   ]
  },
  {
   "cell_type": "code",
   "execution_count": 28,
   "metadata": {},
   "outputs": [],
   "source": [
    "producto1 = float(input('Ingrese el precio del primer producto'))\n",
    "producto2 = float(input('Ingrese el precio del segundo producto'))\n",
    "producto3 = float(input('Ingrese el precio del tercer producto'))"
   ]
  },
  {
   "cell_type": "code",
   "execution_count": 29,
   "metadata": {},
   "outputs": [
    {
     "name": "stdout",
     "output_type": "stream",
     "text": [
      "15.4 20.5 30.5\n"
     ]
    }
   ],
   "source": [
    "print(producto1,producto2,producto3)"
   ]
  },
  {
   "cell_type": "code",
   "execution_count": 30,
   "metadata": {},
   "outputs": [
    {
     "name": "stdout",
     "output_type": "stream",
     "text": [
      "El precio mas barato es 15.4\n",
      "El precio mas caro es 30.5\n"
     ]
    }
   ],
   "source": [
    "minProducto = min(producto1,producto2,producto3)\n",
    "maxProducto = max(producto1,producto2,producto3)\n",
    "print(f'El precio mas barato es {minProducto}')\n",
    "print(f'El precio mas caro es {maxProducto}')"
   ]
  },
  {
   "cell_type": "markdown",
   "metadata": {},
   "source": [
    "6 - Escribe un programa que lea tres números y los muestre en orden descendente."
   ]
  },
  {
   "cell_type": "code",
   "execution_count": 1,
   "metadata": {},
   "outputs": [
    {
     "name": "stdout",
     "output_type": "stream",
     "text": [
      "20 30 50\n"
     ]
    }
   ],
   "source": [
    "num1 = int(input('Ingrese un numero'))\n",
    "num2 = int(input('Ingrese un numero'))\n",
    "num3 = int(input('Ingrese un numero'))\n",
    "print(num1,num2,num3)"
   ]
  },
  {
   "cell_type": "code",
   "execution_count": 2,
   "metadata": {},
   "outputs": [
    {
     "name": "stdout",
     "output_type": "stream",
     "text": [
      "50\n",
      "30\n",
      "20\n"
     ]
    }
   ],
   "source": [
    "# Comparación entre los 3 números\n",
    "if (num1 >= num2) and (num1 >= num3):\n",
    "    print(num1)\n",
    "    if num2 >= num3:\n",
    "        print(num2)\n",
    "        print(num3)\n",
    "    else:\n",
    "        print(num3)\n",
    "        print(num2)\n",
    "elif (num2 >= num1) and (num2 >= num3):\n",
    "    print(num2)\n",
    "    if num1 >= num3:\n",
    "        print(num1)\n",
    "        print(num3)\n",
    "    else:\n",
    "        print(num3)\n",
    "        print(num1)\n",
    "else:\n",
    "    print(num3)\n",
    "    if num1 >= num2:\n",
    "        print(num1)\n",
    "        print(num2)\n",
    "    else:\n",
    "        print(num2)\n",
    "        print(num1)"
   ]
  },
  {
   "cell_type": "markdown",
   "metadata": {},
   "source": [
    "7 - Escribe un programa que pregunte en qué turno estudia la persona usuaria (\"mañana\", \"tarde\" o \"noche\") y muestre el mensaje \"¡Buenos Días!\", \"¡Buenas Tardes!\", \"¡Buenas Noches!\" o \"Valor Inválido!\", según el caso."
   ]
  },
  {
   "cell_type": "code",
   "execution_count": 3,
   "metadata": {},
   "outputs": [
    {
     "name": "stdout",
     "output_type": "stream",
     "text": [
      "Buenos dias\n"
     ]
    }
   ],
   "source": [
    "turno = input(\"Ingrese el turno en que estudia\").lower()\n",
    "if turno == 'mañana':\n",
    "    print('Buenos dias')\n",
    "elif turno == 'tarde':\n",
    "    print('Buenas tardes')\n",
    "elif turno == 'noches':\n",
    "    print('Buenas noches')\n",
    "else:\n",
    "    print('¡Valor Invalido!')"
   ]
  },
  {
   "cell_type": "markdown",
   "metadata": {},
   "source": [
    "8 - Escribe un programa que solicite un número entero a la persona usuaria y determine si es par o impar. Pista: Puedes usar el operador módulo (%)."
   ]
  },
  {
   "cell_type": "code",
   "execution_count": 6,
   "metadata": {},
   "outputs": [
    {
     "name": "stdout",
     "output_type": "stream",
     "text": [
      "El número 22 es par.\n"
     ]
    }
   ],
   "source": [
    "num = int(input('Ingrese un numero entero'))\n",
    "if num % 2 == 0:\n",
    "    print(f'El número {num} es par.')\n",
    "else:\n",
    "    print(f'El número {num} es impar.')"
   ]
  },
  {
   "cell_type": "markdown",
   "metadata": {},
   "source": [
    "9 - Escribe un programa que pida un número a la persona usuaria y le informe si es entero o decimal."
   ]
  },
  {
   "cell_type": "code",
   "execution_count": 9,
   "metadata": {},
   "outputs": [
    {
     "name": "stdout",
     "output_type": "stream",
     "text": [
      "El número 17.5 es decimal.\n"
     ]
    }
   ],
   "source": [
    "num = float(input('Ingrese un numero'))\n",
    "if num % 1 == 0:\n",
    "    print(f'El número {num} es entero.')\n",
    "else:\n",
    "    print(f'El número {num} es decimal.')"
   ]
  },
  {
   "cell_type": "markdown",
   "metadata": {},
   "source": [
    "**Momento de los proyectos**"
   ]
  },
  {
   "cell_type": "markdown",
   "metadata": {},
   "source": [
    "10 - Un programa debe ser escrito para leer dos números y luego preguntar a la persona usuaria qué operación desea realizar. El resultado de la operación debe incluir información sobre el número, si es par o impar, positivo o negativo, e entero o decimal."
   ]
  },
  {
   "cell_type": "code",
   "execution_count": 14,
   "metadata": {},
   "outputs": [
    {
     "name": "stdout",
     "output_type": "stream",
     "text": [
      "20.0 10.0 +\n"
     ]
    }
   ],
   "source": [
    "num1 = float(input('Ingrese el primer número'))\n",
    "num2 = float(input('Ingrese el segundo número'))\n",
    "operacion = input('Ingrese la operación deseada (+, -, *, /)').lower()\n",
    "print(num1,num2,operacion)"
   ]
  },
  {
   "cell_type": "code",
   "execution_count": 19,
   "metadata": {},
   "outputs": [
    {
     "name": "stdout",
     "output_type": "stream",
     "text": [
      "El resultado es un número entero.\n",
      "El resultado es positivo.\n",
      "El resultado es un número par.\n"
     ]
    }
   ],
   "source": [
    "if operacion == '+' or operacion == 'suma':\n",
    "    resultado = num1+num2\n",
    "elif operación == '-' or operacion == 'resta':\n",
    "    resultado = num1 - num2\n",
    "elif operación == '*' or operacion == 'multiplicacion':\n",
    "    resultado = num1 * num2\n",
    "elif operación == '/'or operacion == 'division':\n",
    "    resultado = num1 / num2\n",
    "else: print('Operacion no valida')\n",
    "\n",
    "if resultado % 1 == 0:\n",
    "    print('El resultado es un número entero.')\n",
    "else:\n",
    "    print('El resultado es un número decimal.')\n",
    "\n",
    "if resultado > 0:\n",
    "    print('El resultado es positivo.')\n",
    "else:\n",
    "    print('El resultado es negativo.')\n",
    "\n",
    "if resultado % 2 == 0:\n",
    "    print('El resultado es un número par.')\n",
    "else:\n",
    "    print('El resultado es un número impar.')"
   ]
  },
  {
   "cell_type": "markdown",
   "metadata": {},
   "source": [
    "11 - Escribe un programa que pida a la persona usuaria tres números que representan los lados de un triángulo. El programa debe informar si los valores pueden utilizarse para formar un triángulo y, en caso afirmativo, si es equilátero, isósceles o escaleno. Ten en cuenta algunas sugerencias:\n",
    "* Tres lados forman un triángulo cuando la suma de cualesquiera dos lados es mayor que el tercero;\n",
    "* Triángulo Equilátero: tres lados iguales;\n",
    "* Triángulo Isósceles: dos lados iguales;\n",
    "* Triángulo Escaleno: tres lados diferentes."
   ]
  },
  {
   "cell_type": "code",
   "execution_count": 20,
   "metadata": {},
   "outputs": [
    {
     "name": "stdout",
     "output_type": "stream",
     "text": [
      "Ingrese los lados de un triángulo\n",
      "50.0 30.0 20.0\n"
     ]
    }
   ],
   "source": [
    "print('Ingrese los lados de un triángulo')\n",
    "lado1 = float(input('Ingresa la longitud del primer lado'))\n",
    "lado2 = float(input('Ingresa la longitud del segundo lado'))\n",
    "lado3 = float(input('Ingresa la longitud del tercer lado'))\n",
    "print(lado1,lado2,lado3)"
   ]
  },
  {
   "cell_type": "code",
   "execution_count": 21,
   "metadata": {},
   "outputs": [
    {
     "name": "stdout",
     "output_type": "stream",
     "text": [
      "¡Los valores no pueden formar un triángulo!\n"
     ]
    }
   ],
   "source": [
    "# Verificamos si los lados pueden formar un triángulo\n",
    "if (lado1 + lado2 > lado3) and (lado2 + lado3 > lado1) and (lado1 + lado3 > lado2):\n",
    "    print('¡Los valores pueden formar un triángulo!')\n",
    "    # Comparamos los lados para determinar el tipo de triángulo\n",
    "    if (lado1 == lado2) and (lado2 == lado3):\n",
    "        print('El triángulo es equilátero.')\n",
    "    elif (lado1 != lado2) and (lado2 != lado3) and (lado1 != lado3):\n",
    "        print('El triángulo es escaleno.')\n",
    "    else:\n",
    "        print('El triángulo es isósceles.')\n",
    "else:\n",
    "    print('¡Los valores no pueden formar un triángulo!')"
   ]
  },
  {
   "cell_type": "markdown",
   "metadata": {},
   "source": [
    "12 - Un establecimiento está vendiendo combustibles con descuentos variables. Para el etanol, si la cantidad comprada es de hasta 15 litros, el descuento será del 2% por litro. En caso contrario, será del 4% por litro. Para el diésel, si la cantidad comprada es de hasta 15 litros, el descuento será del 3% por litro. En caso contrario, será del 5% por litro. El precio por litro de diésel es de R$ 2,00 y el precio por litro de etanol es de R$ 1,70. Escribe un programa que lea la cantidad de litros vendidos y el tipo de combustible (E para etanol y D para diésel) y calcule el valor a pagar por el cliente. Ten en cuenta algunas sugerencias:\n",
    "\n",
    "* El valor del descuento será el producto del precio por litro, la cantidad de litros y el valor del descuento.\n",
    "* El valor a pagar por un cliente será el resultado de la multiplicación del precio por litro por la cantidad de litros menos el valor del descuento resultante del cálculo."
   ]
  },
  {
   "cell_type": "code",
   "execution_count": 25,
   "metadata": {},
   "outputs": [
    {
     "name": "stdout",
     "output_type": "stream",
     "text": [
      "100.0 E\n"
     ]
    }
   ],
   "source": [
    "# Recolectamos la cantidad de litros y el tipo de combustible,\n",
    "# convirtiendo el carácter en mayúsculas para facilitar nuestro análisis\n",
    "cantidad_litros = float(input('Ingrese la cantidad de litros vendidos: '))\n",
    "tipo_combustible = input('Ingrese el tipo de combustible (E para etanol y D para diésel): ').upper()\n",
    "print(cantidad_litros,tipo_combustible)"
   ]
  },
  {
   "cell_type": "code",
   "execution_count": 26,
   "metadata": {},
   "outputs": [
    {
     "name": "stdout",
     "output_type": "stream",
     "text": [
      "Valor a pagar por el cliente: R$ 163.2\n"
     ]
    }
   ],
   "source": [
    "# Verificamos primero el tipo de combustible\n",
    "if tipo_combustible == 'E':\n",
    "  # Establecemos el precio por litro de etanol\n",
    "  precio_litro = 1.70\n",
    "  # Según la cantidad de litros, establecemos el descuento correspondiente\n",
    "  if cantidad_litros <= 15:\n",
    "    descuento = 0.02\n",
    "  else:\n",
    "    descuento = 0.04\n",
    "elif tipo_combustible == 'D':\n",
    "  # Establecemos el precio por litro de diésel\n",
    "  precio_litro = 2.00\n",
    "  # Según la cantidad de litros, establecemos el descuento correspondiente\n",
    "  if cantidad_litros <= 15:\n",
    "    descuento = 0.03\n",
    "  else:\n",
    "    descuento = 0.05\n",
    "# En caso de error en la especificación del tipo de combustible,\n",
    "# consideramos las entradas como no válidas y establecemos los precios y descuentos en 0\n",
    "else:\n",
    "    print('Entradas no válidas!')\n",
    "    precio_litro = 0\n",
    "    descuento = 0\n",
    "\n",
    "# Calculamos el valor del descuento, seguido del cálculo del precio descontado\n",
    "valor_descuento = precio_litro * cantidad_litros * descuento\n",
    "valor_pagado = precio_litro * cantidad_litros - valor_descuento\n",
    "\n",
    "# Resultado\n",
    "print(f'Valor a pagar por el cliente: R$ {valor_pagado}')"
   ]
  },
  {
   "cell_type": "markdown",
   "metadata": {},
   "source": [
    "13 - En una empresa de venta de bienes raíces, debes crear un código que analice los datos de ventas anuales para ayudar a la dirección en la toma de decisiones. El código debe recopilar los datos de cantidad de ventas durante los años 2022 y 2023 y calcular la variación porcentual. A partir del valor de la variación, se deben proporcionar las siguientes sugerencias:\n",
    "\n",
    "* Para una variación superior al 20%: bonificación para el equipo de ventas.\n",
    "* Para una variación entre el 2% y el 20%: pequeña bonificación para el equipo de ventas.\n",
    "* Para una variación entre el 2% y el -10%: planificación de políticas de incentivo a las ventas.\n",
    "* Para bonificaciones inferiores al -10%: recorte de gastos."
   ]
  },
  {
   "cell_type": "code",
   "execution_count": 23,
   "metadata": {},
   "outputs": [
    {
     "name": "stdout",
     "output_type": "stream",
     "text": [
      "1000.0 800.0\n"
     ]
    }
   ],
   "source": [
    "venta_2022 = float(input('Ingrese la cantidad de ventas en 2022: '))\n",
    "venta_2023 = float(input('Ingrese la cantidad de ventas en 2023: '))\n",
    "print(venta_2022,venta_2023)"
   ]
  },
  {
   "cell_type": "code",
   "execution_count": 24,
   "metadata": {},
   "outputs": [
    {
     "name": "stdout",
     "output_type": "stream",
     "text": [
      "Recorte de gastos.\n"
     ]
    }
   ],
   "source": [
    "# Calculamos la variación porcentual entre las ventas de los años 2022 y 2023\n",
    "var_porcentual = 100 * (venta_2023 - venta_2022) / (venta_2022)\n",
    "\n",
    "# Análisis condicional de la variación porcentual para determinar la sugerencia a enviar\n",
    "if var_porcentual > 20:\n",
    "    print('Bonificación para el equipo de ventas.')\n",
    "elif 2 <= var_porcentual <= 20:\n",
    "    print('Pequeña bonificación para el equipo de ventas.')\n",
    "elif -10 <= var_porcentual < 2:\n",
    "    print('Planificación de políticas de incentivo a las ventas.')\n",
    "else:\n",
    "    print('Recorte de gastos.')"
   ]
  }
 ],
 "metadata": {
  "kernelspec": {
   "display_name": "Python 3",
   "language": "python",
   "name": "python3"
  },
  "language_info": {
   "codemirror_mode": {
    "name": "ipython",
    "version": 3
   },
   "file_extension": ".py",
   "mimetype": "text/x-python",
   "name": "python",
   "nbconvert_exporter": "python",
   "pygments_lexer": "ipython3",
   "version": "3.13.0"
  }
 },
 "nbformat": 4,
 "nbformat_minor": 2
}
