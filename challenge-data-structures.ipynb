{
 "cells": [
  {
   "cell_type": "markdown",
   "metadata": {},
   "source": [
    "# Challenge - Estructuras de datos con Python"
   ]
  },
  {
   "cell_type": "markdown",
   "metadata": {},
   "source": [
    "**Entrenando la programación**"
   ]
  },
  {
   "cell_type": "markdown",
   "metadata": {},
   "source": [
    "1 - Crea un programa que tenga la siguiente lista con los gastos de una empresa de papel \\[2172.54, 3701.35, 3518.09, 3456.61, 3249.38, 2840.82, 3891.45, 3075.26, 2317.64, 3219.08]. Con estos valores, crea un programa que calcule el promedio de gastos. Sugerencia: usa las funciones integradas sum() y len()."
   ]
  },
  {
   "cell_type": "code",
   "execution_count": 4,
   "metadata": {},
   "outputs": [
    {
     "name": "stdout",
     "output_type": "stream",
     "text": [
      "El promedio de gastos es 3144.222\n"
     ]
    }
   ],
   "source": [
    "gastos = [2172.54, 3701.35, 3518.09, 3456.61, 3249.38, 2840.82, 3891.45, 3075.26, 2317.64, 3219.08]\n",
    "total_gastos = sum(gastos)\n",
    "cant_compras = len(gastos)\n",
    "media_gastos = total_gastos / cant_compras\n",
    "print(f'El promedio de gastos es {media_gastos}')"
   ]
  },
  {
   "cell_type": "markdown",
   "metadata": {},
   "source": [
    "2 - Con los mismos datos de la pregunta anterior, determina cuántas compras se realizaron por encima de 3000 reales y calcula el porcentaje con respecto al total de compras."
   ]
  },
  {
   "cell_type": "code",
   "execution_count": 5,
   "metadata": {},
   "outputs": [
    {
     "name": "stdout",
     "output_type": "stream",
     "text": [
      "7 compras estuvieron por encima de 3000 reales\n",
      "70.0% de los gastos estuvieron por encima de 3000 reales\n"
     ]
    }
   ],
   "source": [
    "contador_encima_3000 = 0\n",
    "for gasto in gastos:\n",
    "    if gasto > 3000:\n",
    "        contador_encima_3000 += 1\n",
    "\n",
    "porcentaje_encima_3000 = 100 * contador_encima_3000 / cant_compras\n",
    "print(f'{contador_encima_3000} compras estuvieron por encima de 3000 reales')\n",
    "print(f'{porcentaje_encima_3000}% de los gastos estuvieron por encima de 3000 reales')"
   ]
  },
  {
   "cell_type": "markdown",
   "metadata": {},
   "source": [
    "3 - Crea un código que recoja en una lista 5 números enteros aleatorios e imprima la lista. Ejemplo: \\[1, 4, 7, 2, 4]."
   ]
  },
  {
   "cell_type": "code",
   "execution_count": 8,
   "metadata": {},
   "outputs": [
    {
     "name": "stdout",
     "output_type": "stream",
     "text": [
      "Lista de numeros ingresados [4, 7, 8, 9, 6]\n"
     ]
    }
   ],
   "source": [
    "lista_numeros = []\n",
    "# Bucle que iterara 5 veces para recibir 5 numeros\n",
    "for i in range (0,5):\n",
    "    numero = int(input('Ingrese un numero entero'))\n",
    "    lista_numeros.append(numero)\n",
    "\n",
    "print(f'Lista de numeros ingresados {lista_numeros}')"
   ]
  },
  {
   "cell_type": "markdown",
   "metadata": {},
   "source": [
    "4 - Recoge nuevamente 5 números enteros e imprime la lista en orden inverso al enviado."
   ]
  },
  {
   "cell_type": "code",
   "execution_count": 10,
   "metadata": {},
   "outputs": [
    {
     "name": "stdout",
     "output_type": "stream",
     "text": [
      "Lista de numeros ingresados invertidos [6, 9, 8, 7, 4]\n"
     ]
    }
   ],
   "source": [
    "print(f'Lista de numeros ingresados invertidos {lista_numeros[::-1]}')"
   ]
  },
  {
   "cell_type": "markdown",
   "metadata": {},
   "source": [
    "5 - Crea un programa que, al ingresar un número cualquiera, genere una lista que contenga todos los números primos entre 1 y el número ingresado."
   ]
  },
  {
   "cell_type": "code",
   "execution_count": 12,
   "metadata": {},
   "outputs": [
    {
     "name": "stdout",
     "output_type": "stream",
     "text": [
      "Lista de numeros primos [2, 3, 5, 7]\n"
     ]
    }
   ],
   "source": [
    "numero = int(input('Ingrese un numero'))\n",
    "lista_primos = []\n",
    "for num in range(2,numero):\n",
    "    primo = True\n",
    "    for pruebas_divisibles in range(2,num):\n",
    "        if num % pruebas_divisibles == 0:\n",
    "            primo = False\n",
    "            break\n",
    "    if primo:\n",
    "        lista_primos.append(num)\n",
    "\n",
    "print(f'Lista de numeros primos {lista_primos}')\n"
   ]
  },
  {
   "cell_type": "markdown",
   "metadata": {},
   "source": [
    "6 - Escribe un programa que pida una fecha, especificando el día, mes y año, y determine si es válida para su análisis."
   ]
  },
  {
   "cell_type": "code",
   "execution_count": 13,
   "metadata": {},
   "outputs": [
    {
     "name": "stdout",
     "output_type": "stream",
     "text": [
      "Fecha válida\n"
     ]
    }
   ],
   "source": [
    "dia = int(input('Ingrese el dia'))\n",
    "mes = int(input('Ingrese el mes'))\n",
    "ano = int(input('Ingrese el año'))\n",
    "\n",
    "# Varificando mes de Febrero\n",
    "if mes == 2:\n",
    "  # Verificamos si es o no un año bisiesto\n",
    "  if ano % 4 == 0 and (ano % 400 == 0 or ano % 100 != 0):\n",
    "    dias_febrero = 29\n",
    "  else:\n",
    "    dias_febrero = 28\n",
    "  # Verificamos si el día ingresado coincide con el máximo de días de febrero\n",
    "  if dia >= 1 and dia <= dias_febrero:\n",
    "    print('Fecha válida')\n",
    "  else:\n",
    "    print('Fecha inválida')\n",
    "# Verificamos meses que terminan en 31 días\n",
    "elif mes in [1, 3, 5, 7, 8, 10, 12]:\n",
    "  if dia >= 1 and dia <= 31:\n",
    "    print('Fecha válida')\n",
    "  else:\n",
    "    print('Fecha inválida')\n",
    "# Verificamos meses que terminan en 30 días\n",
    "elif mes in [4, 6, 9, 11]:\n",
    "  if dia >= 1 and dia <= 30:\n",
    "    print('Fecha válida')\n",
    "  else:\n",
    "    print('Fecha inválida')\n",
    "# Si el mes no está entre 1 y 12\n",
    "else:\n",
    "  print('Fecha inválida')"
   ]
  },
  {
   "cell_type": "markdown",
   "metadata": {},
   "source": [
    "**Momento para los proyectos**"
   ]
  },
  {
   "cell_type": "markdown",
   "metadata": {},
   "source": [
    "7 - Para un estudio sobre la multiplicación de bacterias en una colonia, se recopiló el número de bacterias multiplicadas por día y se puede observar a continuación: \\[1.2, 2.1, 3.3, 5.0, 7.8, 11.3, 16.6, 25.1, 37.8, 56.9]. Con estos valores, crea un código que genere una lista que contenga el porcentaje de crecimiento de bacterias por día, comparando el número de bacterias en cada día con el número de bacterias del día anterior. Sugerencia: para calcular el porcentaje de crecimiento, utiliza la siguiente ecuación: 100 \\* (muestra\\_actual - muestra\\_anterior) / muestra\\_anterior."
   ]
  },
  {
   "cell_type": "code",
   "execution_count": 15,
   "metadata": {},
   "outputs": [
    {
     "name": "stdout",
     "output_type": "stream",
     "text": [
      "Porcentaje de crecimiento \n",
      "[75.00000000000001, 57.142857142857125, 51.51515151515153, 56.0, 44.87179487179489, 46.90265486725664, 51.20481927710843, 50.59760956175297, 50.52910052910054]\n"
     ]
    }
   ],
   "source": [
    "bacterias = [1.2, 2.1, 3.3, 5.0, 7.8, 11.3, 16.6, 25.1, 37.8, 56.9]\n",
    "porcentaje_bacterias = []\n",
    "for i in range(1,len(bacterias)):\n",
    "    porcentaje = 100 * (bacterias[i]-bacterias[i-1])/bacterias[i-1]\n",
    "    porcentaje_bacterias.append(porcentaje)\n",
    "print(f'Porcentaje de crecimiento \\n{porcentaje_bacterias}')"
   ]
  },
  {
   "cell_type": "markdown",
   "metadata": {},
   "source": [
    "8 - Para una selección de productos alimenticios, debemos separar el conjunto de IDs proporcionados por números enteros, sabiendo que los productos con ID par son dulces y los que tienen ID impar son amargos. Crea un código que recoja 10 IDs. Luego, calcula y muestra la cantidad de productos dulces y amargos."
   ]
  },
  {
   "cell_type": "code",
   "execution_count": 19,
   "metadata": {},
   "outputs": [
    {
     "name": "stdout",
     "output_type": "stream",
     "text": [
      "Cantidad de productos dulces es 5\n",
      "Cantidad de productos amargos es 5\n"
     ]
    }
   ],
   "source": [
    "ids = []\n",
    "dulce = 0\n",
    "amargo = 0\n",
    "for i in range(0,10):\n",
    "    ids.append(int(input(f'Ingrese el ID {i+1}')))\n",
    "\n",
    "for id in ids:\n",
    "    if id % 2 == 0:\n",
    "        dulce += 1\n",
    "    else:\n",
    "        amargo += 1\n",
    "\n",
    "print(f'Cantidad de productos dulces es {dulce}')\n",
    "print(f'Cantidad de productos amargos es {amargo}')"
   ]
  },
  {
   "cell_type": "markdown",
   "metadata": {},
   "source": [
    "9 - Desarrolla un programa que informe la puntuación de un estudiante de acuerdo con sus respuestas. Debe pedir la respuesta del estudiante para cada pregunta y verificar si la respuesta coincide con el resultado. Cada pregunta vale un punto y hay opciones A, B, C o D.\n",
    "~~~markdown\n",
    "Resultado del examen:\n",
    "01 - D\n",
    "02 - A\n",
    "03 - C\n",
    "04 - B\n",
    "05 - A\n",
    "06 - D\n",
    "07 - C\n",
    "08 - C\n",
    "09 - A\n",
    "10 - B\n",
    "~~~"
   ]
  },
  {
   "cell_type": "code",
   "execution_count": 28,
   "metadata": {},
   "outputs": [
    {
     "name": "stdout",
     "output_type": "stream",
     "text": [
      "Nota final es 6\n"
     ]
    }
   ],
   "source": [
    "respuestas = []\n",
    "lista_respuestas = ['D','C','A','B','A','D','C','C','A','B']\n",
    "nota = 0\n",
    "\n",
    "for i in range(0,10):\n",
    "    respuestas.append(input(f'Introduzca la respuesta a la pregunta {i+1}').upper())\n",
    "\n",
    "for i in range(0,10):\n",
    "    if respuestas[i] == lista_respuestas[i]:\n",
    "        nota += 1\n",
    "\n",
    "print(f'Nota final es {nota}')"
   ]
  },
  {
   "cell_type": "markdown",
   "metadata": {},
   "source": [
    "10 - Un instituto de meteorología desea realizar un estudio de la temperatura media de cada mes del año. Para ello, debes crear un código que recoja y almacene esas temperaturas medias en una lista. Luego, calcula el promedio anual de las temperaturas y muestra todas las temperaturas por encima del promedio anual y en qué mes ocurrieron, mostrando los meses por su nombre (Enero, Febrero, etc.)."
   ]
  },
  {
   "cell_type": "code",
   "execution_count": 33,
   "metadata": {},
   "outputs": [
    {
     "name": "stdout",
     "output_type": "stream",
     "text": [
      "Temperatura por encima del promedio en\n",
      "Febrero\n",
      "Marzo\n",
      "Abril\n",
      "Agosto\n",
      "Setiembre\n",
      "Octubre\n"
     ]
    }
   ],
   "source": [
    "temperaturas_mensuales = []\n",
    "\n",
    "meses = ['Enero','Febrero','Marzo','Abril','Mayo','Junio','Julio','Agosto','Setiembre','Octubre','Noviembre','Diciembre']\n",
    "\n",
    "for i in range(0, 12):\n",
    "  temperaturas_mensuales.append(float(input(f'Ingrese la temperatura promedio del mes {meses[i]}: ')))\n",
    "\n",
    "media_anual = sum(temperaturas_mensuales) / len(temperaturas_mensuales)\n",
    "\n",
    "print('Temperatura por encima del promedio en')\n",
    "for i in range(0,12):\n",
    "    if temperaturas_mensuales[i] > media_anual:\n",
    "        print(meses[i])"
   ]
  },
  {
   "cell_type": "markdown",
   "metadata": {},
   "source": [
    "11 - Una empresa de comercio electrónico está interesada en analizar las ventas de sus productos. Los datos de ventas se han almacenado en un diccionario:\n",
    "\n",
    "{'Producto A': 300, 'Producto B': 80, 'Producto C': 60, 'Producto D': 200, 'Producto E': 250, 'Producto F': 30}\n",
    "\n",
    "Escribe un código que calcule el total de ventas y el producto más vendido."
   ]
  },
  {
   "cell_type": "code",
   "execution_count": 44,
   "metadata": {},
   "outputs": [
    {
     "name": "stdout",
     "output_type": "stream",
     "text": [
      "La suma del total de ventas es 920\n",
      "El producto mas vendido es 300\n"
     ]
    }
   ],
   "source": [
    "ventas_productos = {\n",
    "    'Producto A': 300,\n",
    "    'Producto B': 80,\n",
    "    'Producto C': 60,\n",
    "    'Producto D': 200,\n",
    "    'Producto E': 250,\n",
    "    'Producto F': 30\n",
    "}\n",
    "print(f'La suma del total de ventas es {sum(ventas_productos.values())}')\n",
    "print(f'El producto mas vendido es {max(ventas_productos.values())}')"
   ]
  },
  {
   "cell_type": "markdown",
   "metadata": {},
   "source": [
    "12 - Se realizó una encuesta de mercado para decidir cuál diseño de marca infantil es más atractivo para los niños. Los votos de la encuesta se pueden ver a continuación:\n",
    "~~~markdown\n",
    "Tabla de votos de la marca\n",
    "Diseño 1 - 1334 votos\n",
    "Diseño 2 - 982 votos\n",
    "Diseño 3 - 1751 votos\n",
    "Diseño 4 - 210 votos\n",
    "Diseño 5 - 1811 votos\n",
    "~~~\n",
    "Adapta los datos proporcionados a una estructura de diccionario. A partir de ello, informa el diseño ganador y el porcentaje de votos recibidos."
   ]
  },
  {
   "cell_type": "code",
   "execution_count": 61,
   "metadata": {},
   "outputs": [
    {
     "name": "stdout",
     "output_type": "stream",
     "text": [
      "Diseño 5 es el ganador: \n",
      "Porcentaje de votos: 29.747043363994745%\n"
     ]
    }
   ],
   "source": [
    "# Diccionario de votos por diseño\n",
    "votos = {\n",
    "    'Diseño 1': 1334,\n",
    "    'Diseño 2': 982,\n",
    "    'Diseño 3': 1751,\n",
    "    'Diseño 4': 210,\n",
    "    'Diseño 5': 1811\n",
    "}\n",
    "total_votos = 0  # Sumará todos los votos\n",
    "ganador = ''  # Almacenará el nombre del diseño ganador\n",
    "voto_ganador = 0  # Almacenará la cantidad ganadora de votos\n",
    "\n",
    "for diseño, voto_diseño in votos.items():\n",
    "    # Sumamos el total de votos\n",
    "    total_votos += voto_diseño\n",
    "    # Verificamos si el voto del diseño actual (voto_diseño) es mayor que el valor almacenado en voto_ganador\n",
    "    # Cada vez que voto_diseño supere el valor en voto_ganador,\n",
    "    # la variable voto_ganador será igual a voto_diseño, asignando un nuevo valor\n",
    "    # De manera similar, el ganador también se actualiza con el diseño actual\n",
    "    if voto_diseño > voto_ganador:\n",
    "        voto_ganador = voto_diseño\n",
    "        ganador = diseño\n",
    "# Calculamos el porcentaje del diseño ganador\n",
    "porcentaje = 100 * (voto_ganador) / (total_votos)\n",
    "\n",
    "# Resultado\n",
    "print(f'{ganador} es el ganador: ')\n",
    "print(f'Porcentaje de votos: {porcentaje}%')"
   ]
  },
  {
   "cell_type": "markdown",
   "metadata": {},
   "source": [
    "13 - Los empleados de un departamento de tu empresa recibirán una bonificación del 10% de su salario debido a un excelente rendimiento del equipo. El departamento de finanzas ha solicitado tu ayuda para verificar las consecuencias financieras de esta bonificación en los recursos. Se te ha enviado una lista con los salarios que recibirán la bonificación: \\[1172, 1644, 2617, 5130, 5532, 6341, 6650, 7238, 7685, 7782, 7903]. La bonificación de cada empleado no puede ser inferior a 200. En el código, convierte cada uno de los salarios en claves de un diccionario y la bonificación de cada salario en el valor correspondiente. Luego, informa el gasto total en bonificaciones, cuántos empleados recibieron la bonificación mínima y cuál fue el valor más alto de la bonificación proporcionada."
   ]
  },
  {
   "cell_type": "code",
   "execution_count": 65,
   "metadata": {},
   "outputs": [
    {
     "name": "stdout",
     "output_type": "stream",
     "text": [
      "Abonos: {1172: 200, 1644: 200, 2617: 261.7, 5130: 513.0, 5532: 553.2, 6341: 634.1, 6650: 665.0, 7238: 723.8000000000001, 7685: 768.5, 7782: 778.2, 7903: 790.3000000000001}\n",
      "Total de gastos en abonos: 6087.8\n",
      "Número de empleados que recibieron el abono mínimo: 2\n",
      "Mayor valor de abono: 790.3000000000001\n"
     ]
    }
   ],
   "source": [
    "salarios = [1172, 1644, 2617, 5130, 5532, 6341, 6650, 7238, 7685, 7782, 7903]\n",
    "\n",
    "diccionario_abonos = {}  # Diccionario de abonos\n",
    "total_abono = 0  # Sumará todos los gastos en abonos\n",
    "abonos_minimo = 0  # Almacenará la cantidad de abonos mínimos\n",
    "mayor_abono = 0  # Almacenará el mayor valor de abono\n",
    "\n",
    "# Recorremos toda la lista de salarios\n",
    "for salario in salarios:\n",
    "    # Calculamos el valor teórico del abono\n",
    "    abono = salario * 0.1\n",
    "    # Si el abono es inferior a 200,\n",
    "    # ajustamos el valor del abono al mínimo (200)\n",
    "    if abono < 200:\n",
    "        abono = 200\n",
    "    # Agregamos un nuevo dato en el diccionario con la clave abono\n",
    "    diccionario_abonos[salario] = abono\n",
    "\n",
    "# Recorremos todos los valores del diccionario de abonos\n",
    "for abono in diccionario_abonos.values():\n",
    "    # Contamos los salarios mínimos\n",
    "    if abono == 200:\n",
    "        abonos_minimo += 1\n",
    "    # Verificamos si el abono leído es mayor que el valor almacenado en mayor_abono\n",
    "    # Cada vez que el abono supere el valor de mayor_abono,\n",
    "    # la variable mayor_abono será igual al abono, asignando un nuevo valor\n",
    "    if abono > mayor_abono:\n",
    "        mayor_abono = abono\n",
    "    # Sumamos los abonos\n",
    "    total_abono += abono\n",
    "\n",
    "print(f'Abonos: {diccionario_abonos}')\n",
    "print(f'Total de gastos en abonos: {total_abono}')\n",
    "print(f'Número de empleados que recibieron el abono mínimo: {abonos_minimo}')\n",
    "print(f'Mayor valor de abono: {mayor_abono}')"
   ]
  },
  {
   "cell_type": "markdown",
   "metadata": {},
   "source": [
    "14 - Un equipo de científicos de datos está estudiando la diversidad biológica en un bosque. El equipo recopiló información sobre el número de especies de plantas y animales en cada área del bosque y almacenó estos datos en un diccionario. En él, la clave describe el área de los datos y los valores en las listas corresponden a las especies de plantas y animales en esas áreas, respectivamente.\n",
    "\n",
    "{'Área Norte': [2819, 7236], 'Área Leste': [1440, 9492], 'Área Sul': [5969, 7496], 'Área Oeste': [14446, 49688], 'Área Centro': [22558, 45148]}\n",
    "\n",
    "Escribe un código para calcular el promedio de especies por área e identificar el área con la mayor diversidad biológica. Sugerencia: utiliza las funciones incorporadas `sum()` y `len()`."
   ]
  },
  {
   "cell_type": "code",
   "execution_count": 69,
   "metadata": {},
   "outputs": [
    {
     "name": "stdout",
     "output_type": "stream",
     "text": [
      "El Área Norte tiene un promedio de 5027.5 especies\n",
      "El Área Leste tiene un promedio de 5466.0 especies\n",
      "El Área Sul tiene un promedio de 6732.5 especies\n",
      "El Área Oeste tiene un promedio de 32067.0 especies\n",
      "El Área Centro tiene un promedio de 33853.0 especies\n",
      "Media general de especies: 16629.2\n",
      "Área con la mayor diversidad biológica: Área Centro\n"
     ]
    }
   ],
   "source": [
    "data = {\n",
    "    'Área Norte': [2819, 7236],\n",
    "    'Área Leste': [1440, 9492],\n",
    "    'Área Sul': [5969, 7496],\n",
    "    'Área Oeste': [14446, 49688],\n",
    "    'Área Centro': [22558, 45148]\n",
    "}\n",
    "suma_media = 0  # Sumará todos los promedios\n",
    "mayor_diversidad = ''  # Almacenará el área con la mayor diversidad\n",
    "mayor_suma = 0  # Almacenará la mayor suma de especies\n",
    "\n",
    "for area, especies in data.items():\n",
    "    suma_especies = sum(especies)\n",
    "    media = suma_especies / len(especies)\n",
    "    print(f'El {area} tiene un promedio de {media} especies')\n",
    "    # Verificamos si la suma de especies es mayor que el valor almacenado de mayor_suma\n",
    "    # Cada vez que suma_especies supere el valor de mayor_suma,\n",
    "    # la variable mayor_suma será igual a suma_especies, asignando un nuevo valor\n",
    "    # De manera similar, mayor_diversidad también se actualiza\n",
    "    if suma_especies > mayor_suma:\n",
    "        mayor_suma = suma_especies\n",
    "        mayor_diversidad = area\n",
    "    # Sumamos los promedios\n",
    "    suma_media += media\n",
    "# La media total será la suma_media dividida por la cantidad de áreas\n",
    "media_total = suma_media / len(data)\n",
    "print(f'Media general de especies: {media_total}')\n",
    "print(f'Área con la mayor diversidad biológica: {mayor_diversidad}')"
   ]
  },
  {
   "cell_type": "markdown",
   "metadata": {},
   "source": [
    "15 - El departamento de Recursos Humanos de tu empresa te pidió ayuda para analizar las edades de los colaboradores de 4 sectores de la empresa. Para ello, te proporcionaron los siguientes datos:\n",
    "~~~python\n",
    "{'Setor A': [22, 26, 30, 30, 35, 38, 40, 56, 57, 65],\n",
    " 'Setor B': [22, 24, 26, 33, 41, 49, 50, 54, 60, 64],\n",
    " 'Setor C': [23, 26, 26, 29, 34, 35, 36, 41, 52, 56],\n",
    " 'Setor D': [19, 20, 25, 27, 34, 39, 42, 44, 50, 65]}\n",
    "~~~\n",
    "Dado que cada sector tiene 10 colaboradores, construye un código que calcule la media de edad de cada sector, la edad media general entre todos los sectores y cuántas personas están por encima de la edad media general."
   ]
  },
  {
   "cell_type": "code",
   "execution_count": 75,
   "metadata": {},
   "outputs": [
    {
     "name": "stdout",
     "output_type": "stream",
     "text": [
      "El sector Sector A tiene un promedio de 39.9 edad\n",
      "El sector Sector B tiene un promedio de 42.3 edad\n",
      "El sector Sector C tiene un promedio de 35.8 edad\n",
      "El sector Sector D tiene un promedio de 36.5 edad\n",
      "La media de edad general es 38.625\n",
      "18 personas están por encima de la edad media general\n"
     ]
    }
   ],
   "source": [
    "datos = {\n",
    "    'Sector A': [22, 26, 30, 30, 35, 38, 40, 56, 57, 65],\n",
    "    'Sector B': [22, 24, 26, 33, 41, 49, 50, 54, 60, 64],\n",
    "    'Sector C': [23, 26, 26, 29, 34, 35, 36, 41, 52, 56],\n",
    "    'Sector D': [19, 20, 25, 27, 34, 39, 42, 44, 50, 65]\n",
    "}\n",
    "# Inicializamos la variable que sumará todas las edades\n",
    "total_edades = 0\n",
    "\n",
    "for sector, edades in datos.items():\n",
    "    suma_edades = sum(edades)\n",
    "    media_edad = suma_edades / len(edades)\n",
    "    print(f'El sector {sector} tiene un promedio de {media_edad} edad')\n",
    "    total_edades += sum(edades)\n",
    "media_total = total_edades / (len(edades) * len(datos))\n",
    "print(f'La media de edad general es {media_total}')\n",
    "\n",
    "# Inicializamos la variable que contará a todas las personas con edades por encima de la media\n",
    "arriba_media = 0\n",
    "# Recorremos nuevamente las claves y elementos del diccionario\n",
    "for sector, edades in datos.items():\n",
    "  # Leemos los elementos (edades) dentro de cada lista de edades en el diccionario\n",
    "  for edad in edades:\n",
    "    # Verificamos si el valor de la edad es superior a la media total\n",
    "    if edad > media_total:\n",
    "      # En caso de que el valor de la edad sea superior a la media, incrementamos en uno el contador\n",
    "      arriba_media += 1\n",
    "# Resultado\n",
    "print(f'{arriba_media} personas están por encima de la edad media general')"
   ]
  }
 ],
 "metadata": {
  "kernelspec": {
   "display_name": "Python 3",
   "language": "python",
   "name": "python3"
  },
  "language_info": {
   "codemirror_mode": {
    "name": "ipython",
    "version": 3
   },
   "file_extension": ".py",
   "mimetype": "text/x-python",
   "name": "python",
   "nbconvert_exporter": "python",
   "pygments_lexer": "ipython3",
   "version": "3.13.0"
  }
 },
 "nbformat": 4,
 "nbformat_minor": 2
}
