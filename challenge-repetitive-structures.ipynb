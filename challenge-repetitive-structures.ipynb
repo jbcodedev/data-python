{
 "cells": [
  {
   "cell_type": "markdown",
   "metadata": {},
   "source": [
    "# Challenge - Estructuras repetitivas en Python"
   ]
  },
  {
   "cell_type": "markdown",
   "metadata": {},
   "source": [
    "**Entrenando la programación**"
   ]
  },
  {
   "cell_type": "markdown",
   "metadata": {},
   "source": [
    "1 - Escribe un programa que solicite dos números enteros e imprima todos los números enteros entre ellos."
   ]
  },
  {
   "cell_type": "code",
   "execution_count": 7,
   "metadata": {},
   "outputs": [
    {
     "name": "stdout",
     "output_type": "stream",
     "text": [
      "1 5\n"
     ]
    }
   ],
   "source": [
    "inicio = int(input('Ingrese el primer numero entero'))\n",
    "fin = int(input('Ingrese el segundo numero entero'))\n",
    "print(inicio,fin)"
   ]
  },
  {
   "cell_type": "code",
   "execution_count": 8,
   "metadata": {},
   "outputs": [
    {
     "name": "stdout",
     "output_type": "stream",
     "text": [
      "2\n",
      "3\n",
      "4\n"
     ]
    }
   ],
   "source": [
    "if inicio < fin:\n",
    "    for n in range(inicio+1,fin):\n",
    "        print(n)\n",
    "elif inicio > fin:\n",
    "    for n in range(fin+1,inicio):\n",
    "        print(n)\n",
    "else:\n",
    "    print(f'Los numeros {inicio}{fin} son iguales')"
   ]
  },
  {
   "cell_type": "markdown",
   "metadata": {},
   "source": [
    "2 - Escribe un programa para calcular cuántos días tomará que la colonia de una bacteria A supere o iguale a la colonia de una bacteria B, basado en tasas de crecimiento del 3% y 1.5%, respectivamente. Supón que la colonia A comienza con 4 elementos y B con 10."
   ]
  },
  {
   "cell_type": "code",
   "execution_count": 2,
   "metadata": {},
   "outputs": [
    {
     "name": "stdout",
     "output_type": "stream",
     "text": [
      "Se necesitara 1 dias para que la colonia A supere a la colonia B\n"
     ]
    }
   ],
   "source": [
    "bacteria_a = 4\n",
    "bacteria_b = 10\n",
    "tasa_a = 0.03\n",
    "tasa_b = 0.015\n",
    "\n",
    "contador = 0\n",
    "while bacteria_a <= bacteria_b:\n",
    "    bacteria_a *= 1 + tasa_a\n",
    "    bacteria_b *= 1 + tasa_b\n",
    "contador+=1\n",
    "\n",
    "print(f\"Se necesitara {contador} dias para que la colonia A supere a la colonia B\")"
   ]
  },
  {
   "cell_type": "markdown",
   "metadata": {},
   "source": [
    "3 - Para procesar una cantidad de 15 datos de evaluaciones de usuarios de un servicio de la empresa, necesitamos verificar si las calificaciones son válidas. Por lo tanto, escribe un programa que recibirá calificaciones del 0 al 5 y verificará si son valores válidos. Si se ingresa una calificación superior a 5 o inferior a 0, se repetirá hasta que el usuario ingrese un valor válido."
   ]
  },
  {
   "cell_type": "code",
   "execution_count": 8,
   "metadata": {},
   "outputs": [
    {
     "name": "stdout",
     "output_type": "stream",
     "text": [
      "La nota del alumno 1 es 3.0\n",
      "La nota del alumno 2 es 2.0\n",
      "La nota del alumno 3 es 3.0\n",
      "La nota del alumno 4 es 4.0\n",
      "La nota del alumno 5 es 2.0\n",
      "La nota del alumno 6 es 3.0\n",
      "La nota del alumno 7 es 3.0\n",
      "La nota del alumno 8 es 2.0\n",
      "La nota del alumno 9 es 1.0\n",
      "La nota del alumno 10 es 3.0\n",
      "La nota del alumno 11 es 2.0\n",
      "La nota del alumno 12 es 3.0\n",
      "La nota del alumno 13 es 4.0\n",
      "La nota del alumno 14 es 2.0\n",
      "La nota del alumno 15 es 3.0\n",
      "Verificación completada.\n"
     ]
    }
   ],
   "source": [
    "# Ingresando 15 notas\n",
    "for i in range(15):\n",
    "    nota = float(input(f\"Ingrese la calificación del usuario {i + 1}: \"))\n",
    "    print(f'La nota del alumno {i+1} es {nota}')\n",
    "    # Validamos que la nota esté entre 0 y 5\n",
    "    while (nota < 0) or (nota > 5):\n",
    "        nota = float(input(f\"Nota no válida. Ingrese nuevamente la calificación del usuario {i + 1}: \"))\n",
    "\n",
    "print(\"Verificación completada.\")"
   ]
  },
  {
   "cell_type": "markdown",
   "metadata": {},
   "source": [
    "4 - Desarrolla un programa que lea un conjunto indefinido de temperaturas en grados Celsius y calcule su promedio. La lectura debe detenerse al ingresar el valor -273°C."
   ]
  },
  {
   "cell_type": "code",
   "execution_count": 9,
   "metadata": {},
   "outputs": [
    {
     "name": "stdout",
     "output_type": "stream",
     "text": [
      "El promedio de las temperaturas es: 50.0\n"
     ]
    }
   ],
   "source": [
    "temperatura = float(input('Ingrese la temperatura en Celcius'))\n",
    "contador = 0\n",
    "suma = 0\n",
    "\n",
    "while temperatura != -273:\n",
    "    suma += temperatura\n",
    "    contador += 1\n",
    "    temperatura = float(input('Ingrese la temperatura en Celcius'))\n",
    "\n",
    "promedio = suma / contador\n",
    "print(f'El promedio de las temperaturas es: {promedio}')"
   ]
  },
  {
   "cell_type": "markdown",
   "metadata": {},
   "source": [
    "5 - Escribe un programa que calcule el factorial de un número entero proporcionado por el usuario. Recuerda que el factorial de un número entero es el producto de ese número por todos sus antecesores hasta llegar al número 1. Por ejemplo, el factorial de 5 es 5 x 4 x 3 x 2 x 1 = 120."
   ]
  },
  {
   "cell_type": "code",
   "execution_count": 1,
   "metadata": {},
   "outputs": [
    {
     "name": "stdout",
     "output_type": "stream",
     "text": [
      "El factorial de 10 es 1\n"
     ]
    }
   ],
   "source": [
    "num = int(input('Ingrese un numero entero'))\n",
    "factorial = 1\n",
    "i = num\n",
    "while i > 0:\n",
    "    factorial *= 1\n",
    "    i -= 1\n",
    "print(f'El factorial de {num} es {factorial}')"
   ]
  },
  {
   "cell_type": "markdown",
   "metadata": {},
   "source": [
    "**Momento de los proyectos**"
   ]
  },
  {
   "cell_type": "markdown",
   "metadata": {},
   "source": [
    "6 - Escribe un programa que genere la tabla de multiplicar de un número entero del 1 al 10, según la elección del usuario. Como ejemplo, para el número 2, la tabla de multiplicar debe mostrarse en el siguiente formato:\n",
    "~~~markdown\n",
    "Tabla de multiplicar del 2:\n",
    "2 x 1 = 2\n",
    "2 x 2 = 4\n",
    "[...]\n",
    "2 x 10 = 20\n",
    "~~~"
   ]
  },
  {
   "cell_type": "code",
   "execution_count": 4,
   "metadata": {},
   "outputs": [
    {
     "name": "stdout",
     "output_type": "stream",
     "text": [
      "7*1=7\n",
      "7*2=14\n",
      "7*3=21\n",
      "7*4=28\n",
      "7*5=35\n",
      "7*6=42\n",
      "7*7=49\n",
      "7*8=56\n",
      "7*9=63\n",
      "7*10=70\n"
     ]
    }
   ],
   "source": [
    "num = int(input('Ingrese un numero entero del 1 al 10'))\n",
    "for i in range(1,11):\n",
    "    resultado = num * i\n",
    "    print(f'{num}*{i}={resultado}')"
   ]
  },
  {
   "cell_type": "markdown",
   "metadata": {},
   "source": [
    "7 - Los números primos tienen diversas aplicaciones en Ciencia de Datos, como en criptografía y seguridad. Un número primo es aquel que es divisible solo por sí mismo y por 1. Por lo tanto, crea un programa que solicite un número entero y determine si es un número primo o no."
   ]
  },
  {
   "cell_type": "code",
   "execution_count": 9,
   "metadata": {},
   "outputs": [
    {
     "name": "stdout",
     "output_type": "stream",
     "text": [
      "7 es un numero primo\n"
     ]
    }
   ],
   "source": [
    "num = int(input('Ingrese un numero entero'))\n",
    "if num > 1:\n",
    "    for i in range(2, num):\n",
    "        if (num % i) == 0:\n",
    "            print(f'{num} no es un numero primo')\n",
    "            break\n",
    "    else:\n",
    "        print(f'{num} es un numero primo')\n",
    "else:\n",
    "    print(f'{num} no es un numero primo')"
   ]
  },
  {
   "cell_type": "markdown",
   "metadata": {},
   "source": [
    "8 - Vamos a comprender la distribución de edades de los pensionistas de una empresa de seguros. Escribe un programa que lea las edades de una cantidad no informada de clientes y muestre la distribución en los intervalos \\[0-25], \\[26-50], \\[51-75] y \\[76-100]. La entrada de datos se detendrá al ingresar un número negativo."
   ]
  },
  {
   "cell_type": "code",
   "execution_count": 2,
   "metadata": {},
   "outputs": [
    {
     "name": "stdout",
     "output_type": "stream",
     "text": [
      "Finalizando el programa\n",
      "Distribución de edades:\n",
      "[0-25]: 7\n",
      "[26-50]: 0\n",
      "[51-75]: 0\n",
      "[76-100]: 0\n"
     ]
    }
   ],
   "source": [
    "edad = int(input('Ingrese la edad (OBS:Ingrese un numero negativo para finalizar)'))\n",
    "contador_0_25 = 0\n",
    "contador_26_50 = 0\n",
    "contador_51_75 = 0\n",
    "contador_76_100 = 0\n",
    "\n",
    "while edad >= 0:\n",
    "    if edad >= 0 and edad <= 25:\n",
    "        contador_0_25 += 1\n",
    "    elif edad >= 26 and edad <= 50:\n",
    "        contador_26_50 += 1\n",
    "    elif edad >= 51 and edad <= 75:\n",
    "        contador_51_75 += 1\n",
    "    elif edad >= 76 and edad <= 100:\n",
    "        contador_76_100 += 1\n",
    "    edad = int(input('Ingresa la edad (o un número negativo para finalizar'))\n",
    "else:\n",
    "    print('Finalizando el programa')\n",
    "\n",
    "print('Distribución de edades:')\n",
    "print('[0-25]:', contador_0_25)\n",
    "print('[26-50]:', contador_26_50)\n",
    "print('[51-75]:', contador_51_75)\n",
    "print('[76-100]:', contador_76_100)"
   ]
  },
  {
   "cell_type": "markdown",
   "metadata": {},
   "source": [
    "9 - En una elección para la gerencia de una empresa con 20 empleados, hay cuatro candidatos. Escribe un programa que calcule al ganador de la elección. La votación se realizó de la siguiente manera:\n",
    "\n",
    "- Cada empleado votó por uno de los cuatro candidatos (representados por los números 1, 2, 3 y 4).\n",
    "- También se contaron los votos nulos (representados por el número 5) y los votos en blanco (representados por el número 6).\n",
    "- Al final de la votación, el programa debe mostrar el número total de votos para cada candidato, los votos nulos y los votos en blanco. Además, debe calcular y mostrar el porcentaje de votos nulos con respecto al total de votos y el porcentaje de votos en blanco con respecto al total de votos."
   ]
  },
  {
   "cell_type": "code",
   "execution_count": 2,
   "metadata": {},
   "outputs": [
    {
     "name": "stdout",
     "output_type": "stream",
     "text": [
      "Voto inválido.\n",
      "Votos candidato 1: 0\n",
      "Votos candidato 2: 3\n",
      "Votos candidato 3: 6\n",
      "Votos candidato 4: 5\n",
      "Votos nulos: 3\n",
      "Votos en blanco: 2\n",
      "Porcentaje de votos nulos: 15.0\n",
      "Porcentaje de votos en blanco: 10.0\n"
     ]
    }
   ],
   "source": [
    "# Inicializamos las variables contadoras\n",
    "votos_candidato1 = 0\n",
    "votos_candidato2 = 0\n",
    "votos_candidato3 = 0\n",
    "votos_candidato4 = 0\n",
    "votos_nulos = 0\n",
    "votos_blanco = 0\n",
    "\n",
    "# Inicio del bucle para leer los votos\n",
    "for i in range(0, 20):\n",
    "    voto = int(input('Ingresa tu voto: '))\n",
    "    if voto == 1:\n",
    "        votos_candidato1 += 1\n",
    "    elif voto == 2:\n",
    "        votos_candidato2 += 1\n",
    "    elif voto == 3:\n",
    "        votos_candidato3 += 1\n",
    "    elif voto == 4:\n",
    "        votos_candidato4 += 1\n",
    "    elif voto == 5:\n",
    "        votos_nulos += 1\n",
    "    elif voto == 6:\n",
    "        votos_blanco += 1\n",
    "    else:\n",
    "        print(\"Voto inválido.\")\n",
    "\n",
    "print(f'Votos candidato 1: {votos_candidato1}')\n",
    "print(f'Votos candidato 2: {votos_candidato2}')\n",
    "print(f'Votos candidato 3: {votos_candidato3}')\n",
    "print(f'Votos candidato 4: {votos_candidato4}')\n",
    "print(f'Votos nulos: {votos_nulos}')\n",
    "print(f'Votos en blanco: {votos_blanco}')\n",
    "print(f'Porcentaje de votos nulos: {(votos_nulos / 20 * 100)}')\n",
    "print(f'Porcentaje de votos en blanco: {(votos_blanco / 20 * 100)}')"
   ]
  }
 ],
 "metadata": {
  "kernelspec": {
   "display_name": "Python 3",
   "language": "python",
   "name": "python3"
  },
  "language_info": {
   "codemirror_mode": {
    "name": "ipython",
    "version": 3
   },
   "file_extension": ".py",
   "mimetype": "text/x-python",
   "name": "python",
   "nbconvert_exporter": "python",
   "pygments_lexer": "ipython3",
   "version": "3.13.0"
  }
 },
 "nbformat": 4,
 "nbformat_minor": 2
}
